{
 "cells": [
  {
   "cell_type": "code",
   "execution_count": 25,
   "metadata": {},
   "outputs": [],
   "source": [
    "import numpy as np\n",
    "\n",
    "import altair as alt\n",
    "\n",
    "import datadotworld as dw\n",
    "\n",
    "import pandas as pd\n",
    "\n",
    "import opendatasets as od"
   ]
  },
  {
   "cell_type": "code",
   "execution_count": 26,
   "metadata": {},
   "outputs": [],
   "source": [
    "# dw.query('https://data.world/mhoangvslev/steam-games-dataset',\n",
    "# '''\n",
    "# SELECT\n",
    "# FROMobject has no attribute 'properties'\n",
    "# WHERE\n",
    "# ORDER BY\n",
    "# LIMIT\n",
    "# '''\n",
    "# )\n"
   ]
  },
  {
   "cell_type": "markdown",
   "metadata": {},
   "source": [
    "## Find the top 10 Cities with the most amount of game developers"
   ]
  },
  {
   "cell_type": "code",
   "execution_count": 27,
   "metadata": {},
   "outputs": [],
   "source": [
    "q1 =dw.query('https://data.world/mhoangvslev/steam-games-dataset',\n",
    "'''\n",
    "SELECT DISTINCT city AS City, country AS Country, COUNT(developer) as Developer_Count\n",
    "FROM developper \n",
    "GROUP BY city\n",
    "ORDER BY COUNT(developer) DESC\n",
    "LIMIT 10\n",
    "'''\n",
    ")"
   ]
  },
  {
   "cell_type": "code",
   "execution_count": 28,
   "metadata": {},
   "outputs": [
    {
     "name": "stdout",
     "output_type": "stream",
     "text": [
      "| City          | Country     |   Developer_Count |\n",
      "|:--------------|:------------|------------------:|\n",
      "| Tokyo         | Japan       |                77 |\n",
      "| London        | England     |                14 |\n",
      "| San Francisco | US          |                13 |\n",
      "| Seoul         | South Korea |                13 |\n",
      "| Paris         | France      |                12 |\n",
      "| Osaka         | Japan       |                10 |\n",
      "| Cambridge     | US          |                10 |\n",
      "| Los Angeles   | US          |                 9 |\n",
      "| Austin        | US          |                 9 |\n",
      "| Chicago       | US          |                 8 |\n"
     ]
    }
   ],
   "source": [
    "(print(q1.dataframe\n",
    ".to_markdown(index=None)))"
   ]
  },
  {
   "cell_type": "code",
   "execution_count": 29,
   "metadata": {},
   "outputs": [
    {
     "data": {
      "text/html": [
       "\n",
       "<div id=\"altair-viz-8016e646861d43cc989b353baaf46352\"></div>\n",
       "<script type=\"text/javascript\">\n",
       "  (function(spec, embedOpt){\n",
       "    let outputDiv = document.currentScript.previousElementSibling;\n",
       "    if (outputDiv.id !== \"altair-viz-8016e646861d43cc989b353baaf46352\") {\n",
       "      outputDiv = document.getElementById(\"altair-viz-8016e646861d43cc989b353baaf46352\");\n",
       "    }\n",
       "    const paths = {\n",
       "      \"vega\": \"https://cdn.jsdelivr.net/npm//vega@5?noext\",\n",
       "      \"vega-lib\": \"https://cdn.jsdelivr.net/npm//vega-lib?noext\",\n",
       "      \"vega-lite\": \"https://cdn.jsdelivr.net/npm//vega-lite@4.8.1?noext\",\n",
       "      \"vega-embed\": \"https://cdn.jsdelivr.net/npm//vega-embed@6?noext\",\n",
       "    };\n",
       "\n",
       "    function loadScript(lib) {\n",
       "      return new Promise(function(resolve, reject) {\n",
       "        var s = document.createElement('script');\n",
       "        s.src = paths[lib];\n",
       "        s.async = true;\n",
       "        s.onload = () => resolve(paths[lib]);\n",
       "        s.onerror = () => reject(`Error loading script: ${paths[lib]}`);\n",
       "        document.getElementsByTagName(\"head\")[0].appendChild(s);\n",
       "      });\n",
       "    }\n",
       "\n",
       "    function showError(err) {\n",
       "      outputDiv.innerHTML = `<div class=\"error\" style=\"color:red;\">${err}</div>`;\n",
       "      throw err;\n",
       "    }\n",
       "\n",
       "    function displayChart(vegaEmbed) {\n",
       "      vegaEmbed(outputDiv, spec, embedOpt)\n",
       "        .catch(err => showError(`Javascript Error: ${err.message}<br>This usually means there's a typo in your chart specification. See the javascript console for the full traceback.`));\n",
       "    }\n",
       "\n",
       "    if(typeof define === \"function\" && define.amd) {\n",
       "      requirejs.config({paths});\n",
       "      require([\"vega-embed\"], displayChart, err => showError(`Error loading script: ${err.message}`));\n",
       "    } else if (typeof vegaEmbed === \"function\") {\n",
       "      displayChart(vegaEmbed);\n",
       "    } else {\n",
       "      loadScript(\"vega\")\n",
       "        .then(() => loadScript(\"vega-lite\"))\n",
       "        .then(() => loadScript(\"vega-embed\"))\n",
       "        .catch(showError)\n",
       "        .then(() => displayChart(vegaEmbed));\n",
       "    }\n",
       "  })({\"config\": {\"view\": {\"continuousWidth\": 400, \"continuousHeight\": 300}}, \"layer\": [{\"mark\": \"bar\", \"encoding\": {\"color\": {\"type\": \"nominal\", \"field\": \"Country\"}, \"x\": {\"type\": \"quantitative\", \"field\": \"Developer_Count\"}, \"y\": {\"type\": \"nominal\", \"field\": \"City\", \"sort\": {\"field\": \"Developer_Count\", \"op\": \"sum\", \"order\": \"ascending\"}}}, \"height\": 400, \"title\": \"Top 10 Cities With The Most Games Developers\", \"width\": 800}, {\"mark\": {\"type\": \"text\", \"align\": \"left\", \"baseline\": \"middle\", \"dx\": 3}, \"encoding\": {\"color\": {\"type\": \"nominal\", \"field\": \"Country\"}, \"text\": {\"type\": \"quantitative\", \"field\": \"Developer_Count\"}, \"x\": {\"type\": \"quantitative\", \"field\": \"Developer_Count\"}, \"y\": {\"type\": \"nominal\", \"field\": \"City\", \"sort\": {\"field\": \"Developer_Count\", \"op\": \"sum\", \"order\": \"ascending\"}}}, \"height\": 400, \"title\": \"Top 10 Cities With The Most Games Developers\", \"width\": 800}], \"data\": {\"name\": \"data-3e1c1916c8df964754fb68e99d697a5a\"}, \"$schema\": \"https://vega.github.io/schema/vega-lite/v4.8.1.json\", \"datasets\": {\"data-3e1c1916c8df964754fb68e99d697a5a\": [{\"City\": \"Tokyo\", \"Country\": \"Japan\", \"Developer_Count\": 77}, {\"City\": \"London\", \"Country\": \"England\", \"Developer_Count\": 14}, {\"City\": \"San Francisco\", \"Country\": \"US\", \"Developer_Count\": 13}, {\"City\": \"Seoul\", \"Country\": \"South Korea\", \"Developer_Count\": 13}, {\"City\": \"Paris\", \"Country\": \"France\", \"Developer_Count\": 12}, {\"City\": \"Osaka\", \"Country\": \"Japan\", \"Developer_Count\": 10}, {\"City\": \"Cambridge\", \"Country\": \"US\", \"Developer_Count\": 10}, {\"City\": \"Los Angeles\", \"Country\": \"US\", \"Developer_Count\": 9}, {\"City\": \"Austin\", \"Country\": \"US\", \"Developer_Count\": 9}, {\"City\": \"Chicago\", \"Country\": \"US\", \"Developer_Count\": 8}]}}, {\"mode\": \"vega-lite\"});\n",
       "</script>"
      ],
      "text/plain": [
       "alt.LayerChart(...)"
      ]
     },
     "execution_count": 29,
     "metadata": {},
     "output_type": "execute_result"
    }
   ],
   "source": [
    "q1_chart = (alt.Chart(q1.dataframe, title = \"Top 10 Cities With The Most Games Developers\")\n",
    ".mark_bar()\n",
    ".encode(\n",
    "    color = alt.Color('Country'),\n",
    "    x = alt.X('Developer_Count'),\n",
    "    y = alt.Y('City', sort=alt.EncodingSortField(field='Developer_Count', order='ascending', op='sum'))    \n",
    ")\n",
    ".properties(\n",
    "    width = 800,\n",
    "    height = 400\n",
    "))\n",
    "\n",
    "q1_text = q1_chart.mark_text(\n",
    "    align='left',\n",
    "    baseline='middle',\n",
    "    dx = 3\n",
    ").encode(\n",
    "    text='Developer_Count'\n",
    ")\n",
    "\n",
    "q1_chart+q1_text"
   ]
  },
  {
   "cell_type": "code",
   "execution_count": 30,
   "metadata": {},
   "outputs": [],
   "source": [
    "q1_chart.save(\"q1_chart.png\")"
   ]
  },
  {
   "cell_type": "markdown",
   "metadata": {},
   "source": [
    "## Find the Top 5 devleopers with the highest amount of sales (global Sales)"
   ]
  },
  {
   "cell_type": "code",
   "execution_count": 31,
   "metadata": {},
   "outputs": [],
   "source": [
    "q2 = dw.query('https://data.world/mhoangvslev/steam-games-dataset',\n",
    "'''\n",
    "SELECT d.developer AS Developer, sum(v.global_sales)*1000000 AS Global_Sales\n",
    "FROM vgsales v\n",
    "JOIN developper d\n",
    "ON  v.developer = d.developer\n",
    "GROUP BY d.developer\n",
    "ORDER BY Global_Sales DESC\n",
    "LIMIT 5\n",
    "'''\n",
    ")"
   ]
  },
  {
   "cell_type": "code",
   "execution_count": 32,
   "metadata": {},
   "outputs": [
    {
     "name": "stdout",
     "output_type": "stream",
     "text": [
      "| Developer         |   Global_Sales |\n",
      "|:------------------|---------------:|\n",
      "| Nintendo          |      531710000 |\n",
      "| Ubisoft           |      132540000 |\n",
      "| Capcom            |      115710000 |\n",
      "| Treyarch          |      103160000 |\n",
      "| Traveller's Tales |       79220000 |\n"
     ]
    }
   ],
   "source": [
    "(print(q2.dataframe\n",
    ".to_markdown(index=None,floatfmt='.0f')))"
   ]
  },
  {
   "cell_type": "code",
   "execution_count": 33,
   "metadata": {},
   "outputs": [
    {
     "data": {
      "text/html": [
       "\n",
       "<div id=\"altair-viz-67e0c7919f5a43a692d14c9e7d4c3b13\"></div>\n",
       "<script type=\"text/javascript\">\n",
       "  (function(spec, embedOpt){\n",
       "    let outputDiv = document.currentScript.previousElementSibling;\n",
       "    if (outputDiv.id !== \"altair-viz-67e0c7919f5a43a692d14c9e7d4c3b13\") {\n",
       "      outputDiv = document.getElementById(\"altair-viz-67e0c7919f5a43a692d14c9e7d4c3b13\");\n",
       "    }\n",
       "    const paths = {\n",
       "      \"vega\": \"https://cdn.jsdelivr.net/npm//vega@5?noext\",\n",
       "      \"vega-lib\": \"https://cdn.jsdelivr.net/npm//vega-lib?noext\",\n",
       "      \"vega-lite\": \"https://cdn.jsdelivr.net/npm//vega-lite@4.8.1?noext\",\n",
       "      \"vega-embed\": \"https://cdn.jsdelivr.net/npm//vega-embed@6?noext\",\n",
       "    };\n",
       "\n",
       "    function loadScript(lib) {\n",
       "      return new Promise(function(resolve, reject) {\n",
       "        var s = document.createElement('script');\n",
       "        s.src = paths[lib];\n",
       "        s.async = true;\n",
       "        s.onload = () => resolve(paths[lib]);\n",
       "        s.onerror = () => reject(`Error loading script: ${paths[lib]}`);\n",
       "        document.getElementsByTagName(\"head\")[0].appendChild(s);\n",
       "      });\n",
       "    }\n",
       "\n",
       "    function showError(err) {\n",
       "      outputDiv.innerHTML = `<div class=\"error\" style=\"color:red;\">${err}</div>`;\n",
       "      throw err;\n",
       "    }\n",
       "\n",
       "    function displayChart(vegaEmbed) {\n",
       "      vegaEmbed(outputDiv, spec, embedOpt)\n",
       "        .catch(err => showError(`Javascript Error: ${err.message}<br>This usually means there's a typo in your chart specification. See the javascript console for the full traceback.`));\n",
       "    }\n",
       "\n",
       "    if(typeof define === \"function\" && define.amd) {\n",
       "      requirejs.config({paths});\n",
       "      require([\"vega-embed\"], displayChart, err => showError(`Error loading script: ${err.message}`));\n",
       "    } else if (typeof vegaEmbed === \"function\") {\n",
       "      displayChart(vegaEmbed);\n",
       "    } else {\n",
       "      loadScript(\"vega\")\n",
       "        .then(() => loadScript(\"vega-lite\"))\n",
       "        .then(() => loadScript(\"vega-embed\"))\n",
       "        .catch(showError)\n",
       "        .then(() => displayChart(vegaEmbed));\n",
       "    }\n",
       "  })({\"config\": {\"view\": {\"continuousWidth\": 400, \"continuousHeight\": 300}}, \"data\": {\"name\": \"data-1e632b89ee7672a55bb04c9f820a2135\"}, \"mark\": \"bar\", \"encoding\": {\"color\": {\"type\": \"quantitative\", \"field\": \"Global_Sales\", \"legend\": null}, \"x\": {\"type\": \"nominal\", \"field\": \"Developer\", \"sort\": \"y\"}, \"y\": {\"type\": \"quantitative\", \"field\": \"Global_Sales\"}}, \"height\": 400, \"title\": \"Top 5 Developers by Global Sales\", \"width\": 800, \"$schema\": \"https://vega.github.io/schema/vega-lite/v4.8.1.json\", \"datasets\": {\"data-1e632b89ee7672a55bb04c9f820a2135\": [{\"Developer\": \"Nintendo\", \"Global_Sales\": 531710000.0000002}, {\"Developer\": \"Ubisoft\", \"Global_Sales\": 132540000.00000028}, {\"Developer\": \"Capcom\", \"Global_Sales\": 115709999.99999996}, {\"Developer\": \"Treyarch\", \"Global_Sales\": 103160000.0}, {\"Developer\": \"Traveller's Tales\", \"Global_Sales\": 79220000.00000006}]}}, {\"mode\": \"vega-lite\"});\n",
       "</script>"
      ],
      "text/plain": [
       "alt.Chart(...)"
      ]
     },
     "execution_count": 33,
     "metadata": {},
     "output_type": "execute_result"
    }
   ],
   "source": [
    "q2_chart = (alt.Chart(q2.dataframe, title = \"Top 5 Developers by Global Sales\")\n",
    ".mark_bar()\n",
    ".encode(\n",
    "    x= alt.X('Developer', sort='y'),\n",
    "    y= alt.Y('Global_Sales'),\n",
    "    color = alt.Color('Global_Sales', legend = None))\n",
    ".properties(\n",
    "    width = 800,\n",
    "    height = 400\n",
    "))\n",
    "\n",
    "\n",
    "q2_chart"
   ]
  },
  {
   "cell_type": "code",
   "execution_count": 34,
   "metadata": {},
   "outputs": [],
   "source": [
    "q2_chart.save(\"q2_chart.png\")"
   ]
  },
  {
   "cell_type": "markdown",
   "metadata": {},
   "source": [
    "## Breakdown the amount of games Nintendo has developed by Genre"
   ]
  },
  {
   "cell_type": "code",
   "execution_count": 35,
   "metadata": {},
   "outputs": [],
   "source": [
    "q3 = dw.query('https://data.world/mhoangvslev/steam-games-dataset',\n",
    "'''\n",
    "SELECT genre AS Genre, COUNT(GENRE) AS Number_of_Games_Made\n",
    "FROM vgsales\n",
    "WHERE developer = \"Nintendo\"\n",
    "GROUP BY genre\n",
    "ORDER BY COUNT(GENRE) ASC\n",
    "'''\n",
    ")"
   ]
  },
  {
   "cell_type": "code",
   "execution_count": 36,
   "metadata": {},
   "outputs": [
    {
     "name": "stdout",
     "output_type": "stream",
     "text": [
      "| Genre      |   Number_of_Games_Made |\n",
      "|:-----------|-----------------------:|\n",
      "| Strategy   |                      3 |\n",
      "| Shooter    |                      4 |\n",
      "| Adventure  |                      5 |\n",
      "| Racing     |                      5 |\n",
      "| Simulation |                      5 |\n",
      "| Puzzle     |                      7 |\n",
      "| Sports     |                      7 |\n",
      "| Misc       |                      8 |\n",
      "| Action     |                     12 |\n",
      "| Platform   |                     16 |\n"
     ]
    }
   ],
   "source": [
    "(print(q3.dataframe\n",
    ".to_markdown(index=None)))"
   ]
  },
  {
   "cell_type": "code",
   "execution_count": 37,
   "metadata": {},
   "outputs": [
    {
     "data": {
      "text/html": [
       "\n",
       "<div id=\"altair-viz-ea2436fac12148d785c1cf4973222a7c\"></div>\n",
       "<script type=\"text/javascript\">\n",
       "  (function(spec, embedOpt){\n",
       "    let outputDiv = document.currentScript.previousElementSibling;\n",
       "    if (outputDiv.id !== \"altair-viz-ea2436fac12148d785c1cf4973222a7c\") {\n",
       "      outputDiv = document.getElementById(\"altair-viz-ea2436fac12148d785c1cf4973222a7c\");\n",
       "    }\n",
       "    const paths = {\n",
       "      \"vega\": \"https://cdn.jsdelivr.net/npm//vega@5?noext\",\n",
       "      \"vega-lib\": \"https://cdn.jsdelivr.net/npm//vega-lib?noext\",\n",
       "      \"vega-lite\": \"https://cdn.jsdelivr.net/npm//vega-lite@4.8.1?noext\",\n",
       "      \"vega-embed\": \"https://cdn.jsdelivr.net/npm//vega-embed@6?noext\",\n",
       "    };\n",
       "\n",
       "    function loadScript(lib) {\n",
       "      return new Promise(function(resolve, reject) {\n",
       "        var s = document.createElement('script');\n",
       "        s.src = paths[lib];\n",
       "        s.async = true;\n",
       "        s.onload = () => resolve(paths[lib]);\n",
       "        s.onerror = () => reject(`Error loading script: ${paths[lib]}`);\n",
       "        document.getElementsByTagName(\"head\")[0].appendChild(s);\n",
       "      });\n",
       "    }\n",
       "\n",
       "    function showError(err) {\n",
       "      outputDiv.innerHTML = `<div class=\"error\" style=\"color:red;\">${err}</div>`;\n",
       "      throw err;\n",
       "    }\n",
       "\n",
       "    function displayChart(vegaEmbed) {\n",
       "      vegaEmbed(outputDiv, spec, embedOpt)\n",
       "        .catch(err => showError(`Javascript Error: ${err.message}<br>This usually means there's a typo in your chart specification. See the javascript console for the full traceback.`));\n",
       "    }\n",
       "\n",
       "    if(typeof define === \"function\" && define.amd) {\n",
       "      requirejs.config({paths});\n",
       "      require([\"vega-embed\"], displayChart, err => showError(`Error loading script: ${err.message}`));\n",
       "    } else if (typeof vegaEmbed === \"function\") {\n",
       "      displayChart(vegaEmbed);\n",
       "    } else {\n",
       "      loadScript(\"vega\")\n",
       "        .then(() => loadScript(\"vega-lite\"))\n",
       "        .then(() => loadScript(\"vega-embed\"))\n",
       "        .catch(showError)\n",
       "        .then(() => displayChart(vegaEmbed));\n",
       "    }\n",
       "  })({\"config\": {\"view\": {\"continuousWidth\": 400, \"continuousHeight\": 300}}, \"data\": {\"name\": \"data-614b4d5d592f80af319ffc4ea25fc81e\"}, \"mark\": \"bar\", \"encoding\": {\"color\": {\"type\": \"quantitative\", \"field\": \"Number_of_Games_Made\", \"legend\": null}, \"x\": {\"type\": \"quantitative\", \"field\": \"Number_of_Games_Made\"}, \"y\": {\"type\": \"nominal\", \"field\": \"Genre\", \"sort\": \"x\"}}, \"height\": 400, \"title\": \"Games Made by Nintendo Broken Down By Genre\", \"width\": 800, \"$schema\": \"https://vega.github.io/schema/vega-lite/v4.8.1.json\", \"datasets\": {\"data-614b4d5d592f80af319ffc4ea25fc81e\": [{\"Genre\": \"Strategy\", \"Number_of_Games_Made\": 3}, {\"Genre\": \"Shooter\", \"Number_of_Games_Made\": 4}, {\"Genre\": \"Adventure\", \"Number_of_Games_Made\": 5}, {\"Genre\": \"Racing\", \"Number_of_Games_Made\": 5}, {\"Genre\": \"Simulation\", \"Number_of_Games_Made\": 5}, {\"Genre\": \"Puzzle\", \"Number_of_Games_Made\": 7}, {\"Genre\": \"Sports\", \"Number_of_Games_Made\": 7}, {\"Genre\": \"Misc\", \"Number_of_Games_Made\": 8}, {\"Genre\": \"Action\", \"Number_of_Games_Made\": 12}, {\"Genre\": \"Platform\", \"Number_of_Games_Made\": 16}]}}, {\"mode\": \"vega-lite\"});\n",
       "</script>"
      ],
      "text/plain": [
       "alt.Chart(...)"
      ]
     },
     "execution_count": 37,
     "metadata": {},
     "output_type": "execute_result"
    }
   ],
   "source": [
    "q3_chart = (alt.Chart(q3.dataframe, title = \"Games Made by Nintendo Broken Down By Genre\")\n",
    ".mark_bar()\n",
    ".encode(\n",
    "    x=\"Number_of_Games_Made\",\n",
    "    y= alt.Y('Genre', sort = 'x'),\n",
    "    color = alt.Color('Number_of_Games_Made', legend = None))\n",
    ".properties(\n",
    "    width = 800,\n",
    "    height = 400\n",
    "))\n",
    "\n",
    "q3_chart"
   ]
  },
  {
   "cell_type": "code",
   "execution_count": 38,
   "metadata": {},
   "outputs": [],
   "source": [
    "q3_chart.save(\"q3_chart.png\")"
   ]
  },
  {
   "cell_type": "markdown",
   "metadata": {},
   "source": [
    "## Create a tabel that shows the sales of Square Enix (developer) by year, include all of the sales groups"
   ]
  },
  {
   "cell_type": "code",
   "execution_count": 39,
   "metadata": {},
   "outputs": [],
   "source": [
    "q4 = dw.query('https://data.world/mhoangvslev/steam-games-dataset',\n",
    "'''\n",
    "SELECT year_of_release as Year,\n",
    "    SUM(na_sales)*1000000 AS North_America_Sales,\n",
    "    SUM(eu_sales)*1000000 AS Europe_Sales ,\n",
    "    SUM(jp_sales)*1000000 AS Japan_Sales,\n",
    "    SUM(other_sales)*1000000 AS Other_Sales,\n",
    "    SUM(global_sales)*1000000 AS Global_Sales \n",
    "FROM vgsales\n",
    "WHERE developer = \"Square Enix\" and year_of_release IS NOT NULL\n",
    "GROUP BY year_of_release\n",
    "ORDER BY year_of_release\n",
    "'''\n",
    ")"
   ]
  },
  {
   "cell_type": "code",
   "execution_count": 40,
   "metadata": {},
   "outputs": [
    {
     "name": "stdout",
     "output_type": "stream",
     "text": [
      "|   Year |   North_America_Sales |   Europe_Sales |   Japan_Sales |   Other_Sales |   Global_Sales |\n",
      "|-------:|----------------------:|---------------:|--------------:|--------------:|---------------:|\n",
      "|   2003 |               1680000 |         860000 |       1500000 |        130000 |        4160000 |\n",
      "|   2004 |                120000 |          90000 |             0 |         30000 |         250000 |\n",
      "|   2005 |               2330000 |         680000 |       1850000 |        200000 |        5060000 |\n",
      "|   2006 |               3630000 |         520000 |       3730000 |       2000000 |        9880000 |\n",
      "|   2007 |               2730000 |         930000 |       1680000 |        620000 |        5970000 |\n",
      "|   2008 |                760000 |         700000 |       1090000 |        370000 |        2910000 |\n",
      "|   2009 |               2450000 |        1410000 |       2270000 |        600000 |        6720000 |\n",
      "|   2010 |               2940000 |        1590000 |       1660000 |        640000 |        6830000 |\n",
      "|   2011 |               1350000 |        1140000 |       2180000 |        370000 |        5050000 |\n",
      "|   2012 |                880000 |         260000 |       1300000 |        100000 |        2540000 |\n",
      "|   2013 |                460000 |         280000 |        870000 |        130000 |        1750000 |\n",
      "|   2015 |                 20000 |          70000 |         70000 |         10000 |         170000 |\n",
      "|   2016 |                120000 |         200000 |        160000 |         70000 |         540000 |\n"
     ]
    }
   ],
   "source": [
    "(print(q4.dataframe\n",
    ".to_markdown(index=None,floatfmt='.0f')))"
   ]
  },
  {
   "cell_type": "code",
   "execution_count": 41,
   "metadata": {},
   "outputs": [],
   "source": [
    "q4_chart_na = (alt.Chart(q4.dataframe, title = \"Sales of Sqaure Enix in North America\")\n",
    ".mark_line(line = True)\n",
    ".encode(\n",
    "    x=alt.X('Year:O'),\n",
    "    y=alt.Y('North_America_Sales', title=\"\"))\n",
    ".properties(\n",
    "    width = 800,\n",
    "    height = 400\n",
    "))\n",
    "\n",
    "q4_chart_eu = (alt.Chart(q4.dataframe, title = \"Sales of Sqaure Enix Games in Europe\")\n",
    ".mark_line(line = True, color='blue')\n",
    ".encode(\n",
    "    x=alt.X('Year:O'),\n",
    "    y=alt.Y('Europe_Sales', title=\"\"))\n",
    ".properties(\n",
    "    width = 800,\n",
    "    height = 400\n",
    "))\n",
    "\n",
    "q4_chart_jp = (alt.Chart(q4.dataframe, title = \"Sales of Sqaure Enix Games in Japan\")\n",
    ".mark_line(line = True, color='geen')\n",
    ".encode(\n",
    "    x=alt.X('Year:O'),\n",
    "    y=alt.Y('Japan_Sales', title=\"\"))\n",
    ".properties(\n",
    "    width = 800,\n",
    "    height = 400\n",
    "))\n",
    "\n",
    "q4_chart_other = (alt.Chart(q4.dataframe, title = \"Sales of Sqaure Enix Games in Other Areas\")\n",
    ".mark_line(line = True, color='purple')\n",
    ".encode(\n",
    "    x=alt.X('Year:O'),\n",
    "    y=alt.Y('Other_Sales', title=\"\"))\n",
    ".properties(\n",
    "    width = 800,\n",
    "    height = 400\n",
    "))\n",
    "\n",
    "q4_chart_global = (alt.Chart(q4.dataframe, title = \"Sales of Sqaure Enix Games In Global Sales\")\n",
    ".mark_line(line = True, color='orange')\n",
    ".encode(\n",
    "    x=alt.X('Year:O'),\n",
    "    y=alt.Y('Global_Sales', title=\"\"))\n",
    ".properties(\n",
    "    width = 800,\n",
    "    height = 400\n",
    "))"
   ]
  },
  {
   "cell_type": "code",
   "execution_count": 42,
   "metadata": {},
   "outputs": [
    {
     "data": {
      "text/html": [
       "\n",
       "<div id=\"altair-viz-987997036a0b4a45b1b86e1ff60554a8\"></div>\n",
       "<script type=\"text/javascript\">\n",
       "  (function(spec, embedOpt){\n",
       "    let outputDiv = document.currentScript.previousElementSibling;\n",
       "    if (outputDiv.id !== \"altair-viz-987997036a0b4a45b1b86e1ff60554a8\") {\n",
       "      outputDiv = document.getElementById(\"altair-viz-987997036a0b4a45b1b86e1ff60554a8\");\n",
       "    }\n",
       "    const paths = {\n",
       "      \"vega\": \"https://cdn.jsdelivr.net/npm//vega@5?noext\",\n",
       "      \"vega-lib\": \"https://cdn.jsdelivr.net/npm//vega-lib?noext\",\n",
       "      \"vega-lite\": \"https://cdn.jsdelivr.net/npm//vega-lite@4.8.1?noext\",\n",
       "      \"vega-embed\": \"https://cdn.jsdelivr.net/npm//vega-embed@6?noext\",\n",
       "    };\n",
       "\n",
       "    function loadScript(lib) {\n",
       "      return new Promise(function(resolve, reject) {\n",
       "        var s = document.createElement('script');\n",
       "        s.src = paths[lib];\n",
       "        s.async = true;\n",
       "        s.onload = () => resolve(paths[lib]);\n",
       "        s.onerror = () => reject(`Error loading script: ${paths[lib]}`);\n",
       "        document.getElementsByTagName(\"head\")[0].appendChild(s);\n",
       "      });\n",
       "    }\n",
       "\n",
       "    function showError(err) {\n",
       "      outputDiv.innerHTML = `<div class=\"error\" style=\"color:red;\">${err}</div>`;\n",
       "      throw err;\n",
       "    }\n",
       "\n",
       "    function displayChart(vegaEmbed) {\n",
       "      vegaEmbed(outputDiv, spec, embedOpt)\n",
       "        .catch(err => showError(`Javascript Error: ${err.message}<br>This usually means there's a typo in your chart specification. See the javascript console for the full traceback.`));\n",
       "    }\n",
       "\n",
       "    if(typeof define === \"function\" && define.amd) {\n",
       "      requirejs.config({paths});\n",
       "      require([\"vega-embed\"], displayChart, err => showError(`Error loading script: ${err.message}`));\n",
       "    } else if (typeof vegaEmbed === \"function\") {\n",
       "      displayChart(vegaEmbed);\n",
       "    } else {\n",
       "      loadScript(\"vega\")\n",
       "        .then(() => loadScript(\"vega-lite\"))\n",
       "        .then(() => loadScript(\"vega-embed\"))\n",
       "        .catch(showError)\n",
       "        .then(() => displayChart(vegaEmbed));\n",
       "    }\n",
       "  })({\"config\": {\"view\": {\"continuousWidth\": 400, \"continuousHeight\": 300}}, \"vconcat\": [{\"mark\": {\"type\": \"line\", \"line\": true}, \"encoding\": {\"x\": {\"type\": \"ordinal\", \"field\": \"Year\"}, \"y\": {\"type\": \"quantitative\", \"field\": \"North_America_Sales\", \"title\": \"\"}}, \"height\": 400, \"title\": \"Sales of Sqaure Enix in North America\", \"width\": 800}, {\"mark\": {\"type\": \"line\", \"color\": \"blue\", \"line\": true}, \"encoding\": {\"x\": {\"type\": \"ordinal\", \"field\": \"Year\"}, \"y\": {\"type\": \"quantitative\", \"field\": \"Europe_Sales\", \"title\": \"\"}}, \"height\": 400, \"title\": \"Sales of Sqaure Enix Games in Europe\", \"width\": 800}, {\"mark\": {\"type\": \"line\", \"color\": \"geen\", \"line\": true}, \"encoding\": {\"x\": {\"type\": \"ordinal\", \"field\": \"Year\"}, \"y\": {\"type\": \"quantitative\", \"field\": \"Japan_Sales\", \"title\": \"\"}}, \"height\": 400, \"title\": \"Sales of Sqaure Enix Games in Japan\", \"width\": 800}, {\"mark\": {\"type\": \"line\", \"color\": \"purple\", \"line\": true}, \"encoding\": {\"x\": {\"type\": \"ordinal\", \"field\": \"Year\"}, \"y\": {\"type\": \"quantitative\", \"field\": \"Other_Sales\", \"title\": \"\"}}, \"height\": 400, \"title\": \"Sales of Sqaure Enix Games in Other Areas\", \"width\": 800}, {\"mark\": {\"type\": \"line\", \"color\": \"orange\", \"line\": true}, \"encoding\": {\"x\": {\"type\": \"ordinal\", \"field\": \"Year\"}, \"y\": {\"type\": \"quantitative\", \"field\": \"Global_Sales\", \"title\": \"\"}}, \"height\": 400, \"title\": \"Sales of Sqaure Enix Games In Global Sales\", \"width\": 800}], \"data\": {\"name\": \"data-4e118cf73496c9c9d8585e0f64afa84e\"}, \"$schema\": \"https://vega.github.io/schema/vega-lite/v4.8.1.json\", \"datasets\": {\"data-4e118cf73496c9c9d8585e0f64afa84e\": [{\"Year\": 2003, \"North_America_Sales\": 1680000.0000000002, \"Europe_Sales\": 860000.0, \"Japan_Sales\": 1500000.0, \"Other_Sales\": 130000.0, \"Global_Sales\": 4160000.0}, {\"Year\": 2004, \"North_America_Sales\": 120000.0, \"Europe_Sales\": 90000.0, \"Japan_Sales\": 0.0, \"Other_Sales\": 30000.0, \"Global_Sales\": 250000.0}, {\"Year\": 2005, \"North_America_Sales\": 2330000.0, \"Europe_Sales\": 679999.9999999999, \"Japan_Sales\": 1849999.9999999998, \"Other_Sales\": 200000.0, \"Global_Sales\": 5060000.000000001}, {\"Year\": 2006, \"North_America_Sales\": 3630000.0, \"Europe_Sales\": 520000.0, \"Japan_Sales\": 3730000.0000000005, \"Other_Sales\": 2000000.0, \"Global_Sales\": 9880000.0}, {\"Year\": 2007, \"North_America_Sales\": 2730000.0, \"Europe_Sales\": 930000.0, \"Japan_Sales\": 1680000.0, \"Other_Sales\": 620000.0000000001, \"Global_Sales\": 5970000.000000001}, {\"Year\": 2008, \"North_America_Sales\": 760000.0, \"Europe_Sales\": 700000.0, \"Japan_Sales\": 1090000.0, \"Other_Sales\": 370000.0, \"Global_Sales\": 2910000.0}, {\"Year\": 2009, \"North_America_Sales\": 2449999.9999999995, \"Europe_Sales\": 1410000.0000000002, \"Japan_Sales\": 2270000.0, \"Other_Sales\": 600000.0000000001, \"Global_Sales\": 6719999.999999999}, {\"Year\": 2010, \"North_America_Sales\": 2940000.0, \"Europe_Sales\": 1590000.0, \"Japan_Sales\": 1660000.0000000002, \"Other_Sales\": 640000.0, \"Global_Sales\": 6830000.000000001}, {\"Year\": 2011, \"North_America_Sales\": 1350000.0, \"Europe_Sales\": 1140000.0, \"Japan_Sales\": 2180000.0, \"Other_Sales\": 370000.0, \"Global_Sales\": 5050000.000000001}, {\"Year\": 2012, \"North_America_Sales\": 880000.0, \"Europe_Sales\": 260000.0, \"Japan_Sales\": 1300000.0, \"Other_Sales\": 100000.0, \"Global_Sales\": 2540000.0}, {\"Year\": 2013, \"North_America_Sales\": 459999.99999999994, \"Europe_Sales\": 280000.0, \"Japan_Sales\": 870000.0, \"Other_Sales\": 130000.0, \"Global_Sales\": 1750000.0}, {\"Year\": 2015, \"North_America_Sales\": 20000.0, \"Europe_Sales\": 70000.0, \"Japan_Sales\": 70000.0, \"Other_Sales\": 10000.0, \"Global_Sales\": 169999.99999999997}, {\"Year\": 2016, \"North_America_Sales\": 120000.0, \"Europe_Sales\": 200000.0, \"Japan_Sales\": 160000.0, \"Other_Sales\": 70000.0, \"Global_Sales\": 540000.0}]}}, {\"mode\": \"vega-lite\"});\n",
       "</script>"
      ],
      "text/plain": [
       "alt.VConcatChart(...)"
      ]
     },
     "execution_count": 42,
     "metadata": {},
     "output_type": "execute_result"
    }
   ],
   "source": [
    "q4_chart = alt.vconcat(q4_chart_na,q4_chart_eu,q4_chart_jp,q4_chart_other,q4_chart_global)\n",
    "\n",
    "q4_chart"
   ]
  },
  {
   "cell_type": "code",
   "execution_count": 43,
   "metadata": {},
   "outputs": [],
   "source": [
    "q4_chart.save(\"q4_chart.png\")"
   ]
  }
 ],
 "metadata": {
  "interpreter": {
   "hash": "14b1dbef30b25bd9fa89304440b42854174a8f2a3c1c96fae9c63191a8af424c"
  },
  "kernelspec": {
   "display_name": "Python 3.9.5 64-bit",
   "language": "python",
   "name": "python3"
  },
  "language_info": {
   "codemirror_mode": {
    "name": "ipython",
    "version": 3
   },
   "file_extension": ".py",
   "mimetype": "text/x-python",
   "name": "python",
   "nbconvert_exporter": "python",
   "pygments_lexer": "ipython3",
   "version": "3.9.5"
  },
  "orig_nbformat": 4
 },
 "nbformat": 4,
 "nbformat_minor": 2
}
